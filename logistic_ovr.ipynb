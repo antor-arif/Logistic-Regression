{
 "cells": [
  {
   "metadata": {
    "ExecuteTime": {
     "end_time": "2025-06-20T11:08:41.136504Z",
     "start_time": "2025-06-20T11:08:41.130768Z"
    }
   },
   "cell_type": "code",
   "source": [
    "from sklearn.linear_model import LogisticRegression;\n",
    "from sklearn.datasets import make_classification;\n"
   ],
   "id": "dc4b122ed71cddee",
   "outputs": [],
   "execution_count": 24
  },
  {
   "metadata": {
    "ExecuteTime": {
     "end_time": "2025-06-20T11:08:42.555475Z",
     "start_time": "2025-06-20T11:08:42.547024Z"
    }
   },
   "cell_type": "code",
   "source": "X, y = make_classification(n_samples=1000, n_classes=3,n_features=10, n_informative=3,random_state=42);",
   "id": "49a6014e103184ac",
   "outputs": [],
   "execution_count": 25
  },
  {
   "metadata": {
    "ExecuteTime": {
     "end_time": "2025-06-20T11:08:43.660409Z",
     "start_time": "2025-06-20T11:08:43.650316Z"
    }
   },
   "cell_type": "code",
   "source": "X",
   "id": "7eac06f9250123b3",
   "outputs": [
    {
     "data": {
      "text/plain": [
       "array([[ 0.7715326 , -1.47433614,  2.19664605, ...,  0.68174341,\n",
       "         1.08996189,  0.96250289],\n",
       "       [ 1.85838284, -3.68087983,  0.22749588, ..., -0.47417818,\n",
       "         1.34113888, -0.77177196],\n",
       "       [-0.98724764,  1.53916836,  0.5859042 , ..., -0.32202815,\n",
       "        -1.45103394,  1.32543211],\n",
       "       ...,\n",
       "       [-1.227082  ,  1.65602784,  0.47263035, ..., -0.8634936 ,\n",
       "        -1.83932326, -0.03120349],\n",
       "       [ 1.28527572, -0.29715202, -0.67172079, ..., -1.31544131,\n",
       "         2.85446468,  1.3094441 ],\n",
       "       [-0.75428048,  0.88516075, -1.6728939 , ..., -2.0362205 ,\n",
       "        -1.43989584,  0.04749347]])"
      ]
     },
     "execution_count": 26,
     "metadata": {},
     "output_type": "execute_result"
    }
   ],
   "execution_count": 26
  },
  {
   "metadata": {
    "ExecuteTime": {
     "end_time": "2025-06-20T11:08:45.795578Z",
     "start_time": "2025-06-20T11:08:45.783919Z"
    }
   },
   "cell_type": "code",
   "source": "y",
   "id": "dbeebc6fd2a0e648",
   "outputs": [
    {
     "data": {
      "text/plain": [
       "array([1, 2, 1, 1, 2, 1, 1, 0, 2, 2, 2, 0, 1, 0, 2, 1, 2, 1, 0, 1, 1, 1,\n",
       "       2, 2, 1, 2, 2, 0, 1, 2, 0, 1, 0, 2, 0, 1, 0, 0, 2, 0, 1, 0, 2, 1,\n",
       "       2, 0, 2, 0, 2, 0, 0, 0, 2, 1, 1, 1, 1, 2, 0, 0, 2, 1, 0, 0, 1, 2,\n",
       "       0, 2, 2, 1, 0, 1, 1, 1, 2, 2, 2, 1, 2, 2, 2, 2, 2, 2, 0, 0, 0, 0,\n",
       "       0, 1, 1, 2, 1, 0, 1, 2, 0, 2, 0, 0, 2, 1, 0, 2, 0, 2, 2, 0, 2, 0,\n",
       "       0, 0, 0, 2, 1, 2, 1, 0, 2, 0, 0, 2, 1, 0, 2, 1, 0, 0, 2, 2, 0, 0,\n",
       "       0, 2, 1, 2, 2, 0, 2, 0, 1, 2, 1, 2, 1, 1, 2, 0, 0, 1, 0, 2, 0, 0,\n",
       "       0, 1, 1, 2, 1, 2, 2, 0, 0, 0, 1, 1, 0, 2, 1, 2, 2, 2, 1, 1, 0, 2,\n",
       "       1, 0, 2, 1, 2, 1, 2, 0, 1, 1, 0, 2, 2, 2, 2, 0, 2, 0, 0, 0, 0, 2,\n",
       "       1, 2, 1, 1, 0, 2, 2, 2, 2, 2, 2, 2, 1, 1, 1, 2, 2, 0, 2, 2, 2, 0,\n",
       "       2, 0, 1, 1, 2, 1, 2, 2, 2, 2, 0, 1, 0, 0, 0, 0, 2, 2, 2, 1, 1, 1,\n",
       "       0, 2, 0, 0, 1, 0, 2, 0, 1, 2, 2, 2, 1, 2, 1, 0, 1, 1, 1, 2, 2, 2,\n",
       "       2, 2, 2, 0, 0, 0, 2, 1, 1, 1, 1, 2, 1, 2, 2, 1, 2, 1, 0, 0, 2, 2,\n",
       "       2, 1, 1, 1, 2, 0, 0, 0, 0, 1, 0, 0, 2, 1, 1, 1, 0, 0, 0, 2, 0, 2,\n",
       "       2, 1, 1, 0, 2, 2, 2, 1, 2, 1, 0, 0, 0, 0, 0, 0, 2, 2, 1, 2, 0, 2,\n",
       "       1, 0, 1, 1, 1, 0, 2, 0, 2, 1, 0, 0, 0, 2, 0, 1, 2, 0, 1, 1, 0, 2,\n",
       "       1, 1, 1, 0, 2, 0, 0, 0, 2, 0, 1, 1, 2, 2, 2, 2, 0, 2, 0, 2, 1, 2,\n",
       "       2, 1, 1, 2, 0, 2, 2, 2, 1, 2, 1, 1, 0, 2, 1, 0, 1, 2, 0, 2, 2, 0,\n",
       "       1, 2, 0, 0, 2, 2, 0, 0, 2, 0, 1, 0, 2, 2, 0, 1, 2, 2, 0, 1, 2, 2,\n",
       "       0, 2, 1, 0, 1, 1, 1, 0, 2, 0, 1, 1, 1, 2, 0, 1, 1, 2, 2, 1, 1, 1,\n",
       "       0, 0, 2, 1, 0, 1, 1, 2, 0, 1, 0, 2, 2, 1, 1, 0, 2, 1, 2, 1, 0, 0,\n",
       "       0, 1, 2, 0, 2, 2, 0, 2, 0, 0, 0, 0, 1, 2, 2, 1, 2, 2, 1, 1, 0, 2,\n",
       "       1, 1, 0, 2, 1, 2, 1, 0, 1, 2, 2, 2, 2, 0, 2, 1, 1, 0, 2, 0, 1, 1,\n",
       "       0, 0, 1, 2, 0, 2, 0, 0, 0, 0, 0, 1, 1, 1, 2, 1, 1, 1, 1, 2, 2, 1,\n",
       "       1, 1, 2, 0, 1, 1, 1, 2, 1, 0, 2, 2, 2, 0, 2, 0, 0, 0, 2, 2, 1, 0,\n",
       "       1, 2, 1, 2, 1, 1, 2, 1, 2, 0, 0, 1, 0, 1, 2, 1, 1, 2, 2, 1, 2, 0,\n",
       "       1, 2, 0, 2, 0, 2, 1, 2, 2, 1, 1, 0, 1, 0, 1, 0, 0, 1, 2, 1, 1, 1,\n",
       "       1, 1, 2, 1, 0, 1, 0, 0, 0, 2, 0, 2, 0, 0, 2, 1, 1, 2, 1, 0, 1, 0,\n",
       "       0, 1, 1, 1, 0, 2, 1, 2, 0, 0, 1, 0, 2, 1, 2, 2, 0, 2, 1, 2, 2, 0,\n",
       "       0, 2, 2, 2, 1, 2, 1, 2, 0, 1, 0, 2, 2, 2, 2, 0, 1, 2, 2, 1, 2, 1,\n",
       "       2, 0, 1, 1, 0, 0, 1, 1, 1, 2, 0, 2, 1, 0, 0, 0, 2, 2, 2, 2, 2, 1,\n",
       "       1, 2, 2, 1, 2, 1, 0, 1, 2, 0, 1, 1, 1, 1, 1, 0, 0, 1, 0, 2, 0, 2,\n",
       "       0, 0, 0, 2, 0, 0, 2, 2, 1, 0, 0, 2, 0, 2, 0, 0, 1, 1, 2, 2, 1, 1,\n",
       "       1, 2, 2, 0, 0, 2, 2, 1, 2, 0, 0, 1, 1, 2, 0, 0, 2, 0, 1, 2, 1, 0,\n",
       "       1, 0, 1, 0, 2, 2, 0, 2, 0, 2, 1, 0, 2, 1, 2, 1, 1, 2, 0, 2, 0, 1,\n",
       "       2, 2, 0, 1, 0, 1, 1, 2, 1, 1, 1, 2, 1, 0, 2, 1, 1, 2, 0, 1, 1, 0,\n",
       "       0, 0, 1, 2, 2, 0, 1, 2, 2, 0, 2, 1, 0, 0, 1, 2, 0, 1, 2, 2, 1, 2,\n",
       "       0, 1, 0, 2, 0, 0, 2, 1, 1, 0, 2, 2, 0, 0, 0, 1, 0, 0, 0, 2, 0, 1,\n",
       "       0, 1, 0, 1, 2, 2, 0, 0, 1, 0, 0, 0, 0, 0, 1, 1, 2, 0, 1, 0, 0, 0,\n",
       "       0, 0, 0, 1, 1, 2, 2, 2, 1, 1, 0, 1, 0, 0, 2, 0, 2, 0, 2, 2, 0, 0,\n",
       "       1, 2, 1, 1, 0, 1, 1, 1, 0, 0, 1, 0, 1, 1, 2, 1, 0, 1, 1, 2, 2, 1,\n",
       "       0, 0, 0, 1, 0, 0, 2, 2, 0, 0, 0, 0, 0, 1, 0, 2, 1, 2, 1, 2, 0, 0,\n",
       "       0, 0, 2, 1, 0, 2, 1, 0, 2, 0, 2, 2, 1, 1, 1, 1, 1, 1, 1, 1, 2, 0,\n",
       "       1, 2, 0, 0, 0, 1, 1, 1, 0, 0, 0, 0, 1, 0, 1, 2, 0, 0, 1, 1, 2, 2,\n",
       "       1, 1, 1, 1, 2, 0, 1, 2, 1, 0, 1, 2, 0, 0, 1, 0, 2, 1, 1, 2, 1, 0,\n",
       "       1, 0, 1, 2, 0, 2, 1, 1, 1, 1])"
      ]
     },
     "execution_count": 27,
     "metadata": {},
     "output_type": "execute_result"
    }
   ],
   "execution_count": 27
  },
  {
   "metadata": {
    "ExecuteTime": {
     "end_time": "2025-06-20T11:18:15.394176Z",
     "start_time": "2025-06-20T11:18:15.386832Z"
    }
   },
   "cell_type": "code",
   "source": [
    "from sklearn.model_selection import train_test_split;\n",
    "from sklearn.multiclass import OneVsRestClassifier;\n",
    "X_train, X_test, y_train, y_test = train_test_split(X, y, test_size=0.2, random_state=42);\n",
    "logistic = OneVsRestClassifier(LogisticRegression(max_iter=10000))"
   ],
   "id": "944bc31b9997ed20",
   "outputs": [],
   "execution_count": 58
  },
  {
   "metadata": {
    "ExecuteTime": {
     "end_time": "2025-06-20T11:18:16.818159Z",
     "start_time": "2025-06-20T11:18:16.793144Z"
    }
   },
   "cell_type": "code",
   "source": "logistic.fit(X_train, y_train);",
   "id": "7c93f595c6f5e33",
   "outputs": [],
   "execution_count": 59
  },
  {
   "metadata": {
    "ExecuteTime": {
     "end_time": "2025-06-20T11:18:17.909561Z",
     "start_time": "2025-06-20T11:18:17.901173Z"
    }
   },
   "cell_type": "code",
   "source": [
    "y_pred = logistic.predict(X_test);\n",
    "y_pred"
   ],
   "id": "7eaf53242cf63bfe",
   "outputs": [
    {
     "data": {
      "text/plain": [
       "array([2, 0, 1, 2, 0, 1, 2, 0, 0, 2, 2, 2, 2, 2, 2, 2, 2, 1, 0, 0, 0, 0,\n",
       "       2, 0, 1, 0, 2, 1, 0, 2, 2, 0, 1, 0, 0, 2, 2, 2, 1, 0, 0, 1, 2, 0,\n",
       "       1, 2, 1, 0, 1, 1, 2, 0, 1, 0, 2, 2, 2, 2, 1, 2, 0, 2, 2, 2, 1, 1,\n",
       "       0, 1, 0, 1, 0, 2, 2, 0, 0, 0, 2, 1, 1, 2, 2, 0, 2, 1, 0, 1, 1, 2,\n",
       "       1, 1, 2, 2, 0, 2, 2, 2, 1, 0, 0, 0, 0, 2, 1, 0, 2, 0, 1, 0, 0, 2,\n",
       "       0, 1, 2, 0, 0, 0, 1, 1, 2, 2, 1, 0, 0, 1, 2, 0, 0, 1, 0, 2, 1, 0,\n",
       "       2, 2, 2, 0, 0, 1, 2, 1, 2, 1, 2, 1, 2, 2, 2, 0, 0, 1, 2, 0, 0, 2,\n",
       "       1, 0, 0, 0, 2, 0, 0, 0, 2, 2, 2, 2, 2, 0, 2, 0, 0, 2, 1, 0, 0, 0,\n",
       "       1, 1, 1, 2, 2, 0, 0, 2, 0, 0, 0, 2, 0, 0, 0, 0, 2, 1, 2, 2, 1, 2,\n",
       "       0, 1])"
      ]
     },
     "execution_count": 60,
     "metadata": {},
     "output_type": "execute_result"
    }
   ],
   "execution_count": 60
  },
  {
   "metadata": {
    "ExecuteTime": {
     "end_time": "2025-06-20T11:18:19.921500Z",
     "start_time": "2025-06-20T11:18:19.902649Z"
    }
   },
   "cell_type": "code",
   "source": [
    "from sklearn.metrics import confusion_matrix, classification_report, accuracy_score;\n",
    "cm = confusion_matrix(y_test, y_pred);\n",
    "cr = classification_report(y_test, y_pred);\n",
    "acc = accuracy_score(y_test, y_pred);\n",
    "print(cm, cr, acc);"
   ],
   "id": "e5f2e9ff5b81e6bb",
   "outputs": [
    {
     "name": "stdout",
     "output_type": "stream",
     "text": [
      "[[49 12  5]\n",
      " [25 27 17]\n",
      " [ 2  9 54]]               precision    recall  f1-score   support\n",
      "\n",
      "           0       0.64      0.74      0.69        66\n",
      "           1       0.56      0.39      0.46        69\n",
      "           2       0.71      0.83      0.77        65\n",
      "\n",
      "    accuracy                           0.65       200\n",
      "   macro avg       0.64      0.65      0.64       200\n",
      "weighted avg       0.64      0.65      0.64       200\n",
      " 0.65\n"
     ]
    }
   ],
   "execution_count": 61
  },
  {
   "metadata": {},
   "cell_type": "markdown",
   "source": "Hyper Parameter Tuning",
   "id": "3cd3db852bade4bf"
  },
  {
   "metadata": {
    "ExecuteTime": {
     "end_time": "2025-06-20T11:18:21.661841Z",
     "start_time": "2025-06-20T11:18:21.652694Z"
    }
   },
   "cell_type": "code",
   "source": [
    "model = LogisticRegression();\n",
    "c_values = [0.01, 0.1, 1, 10]\n",
    "cv = 5  # or StratifiedKFold, etc.\n",
    "\n",
    "param_grid = [\n",
    "    {\n",
    "        'estimator__penalty': ['l1'],\n",
    "        'estimator__C': c_values,\n",
    "        'estimator__solver': ['liblinear', 'saga']\n",
    "    },\n",
    "    {\n",
    "        'estimator__penalty': ['l2'],\n",
    "        'estimator__C': c_values,\n",
    "        'estimator__solver': ['newton-cg', 'lbfgs', 'liblinear', 'sag', 'saga']\n",
    "    },\n",
    "    {\n",
    "        'estimator__penalty': ['elasticnet'],\n",
    "        'estimator__C': c_values,\n",
    "        'estimator__solver': ['saga'],\n",
    "        'estimator__l1_ratio': [0.0, 0.25, 0.5, 0.75, 1.0]\n",
    "    }\n",
    "]"
   ],
   "id": "7082e80061e77716",
   "outputs": [],
   "execution_count": 62
  },
  {
   "metadata": {
    "ExecuteTime": {
     "end_time": "2025-06-20T11:18:31.932886Z",
     "start_time": "2025-06-20T11:18:31.927240Z"
    }
   },
   "cell_type": "code",
   "source": "from sklearn.model_selection import GridSearchCV",
   "id": "1e4a27eaa4b477de",
   "outputs": [],
   "execution_count": 64
  },
  {
   "metadata": {
    "ExecuteTime": {
     "end_time": "2025-06-20T11:18:33.624140Z",
     "start_time": "2025-06-20T11:18:33.619069Z"
    }
   },
   "cell_type": "code",
   "source": "grid = GridSearchCV(estimator=logistic, param_grid=param_grid, cv=cv);",
   "id": "b7842fdafadd13a3",
   "outputs": [],
   "execution_count": 65
  },
  {
   "metadata": {
    "ExecuteTime": {
     "end_time": "2025-06-20T11:18:43.285208Z",
     "start_time": "2025-06-20T11:18:34.706398Z"
    }
   },
   "cell_type": "code",
   "source": "grid.fit(X_train, y_train);",
   "id": "7b26eefbbf8864b0",
   "outputs": [],
   "execution_count": 66
  },
  {
   "metadata": {
    "ExecuteTime": {
     "end_time": "2025-06-20T11:18:45.878358Z",
     "start_time": "2025-06-20T11:18:45.870973Z"
    }
   },
   "cell_type": "code",
   "source": [
    "print(\"Best Params:\", grid.best_params_)\n",
    "print(\"Best CV Score:\", grid.best_score_)\n",
    "print(\"Test Accuracy:\", grid.score(X_test, y_test))"
   ],
   "id": "9c62aeb59a1da411",
   "outputs": [
    {
     "name": "stdout",
     "output_type": "stream",
     "text": [
      "Best Params: {'estimator__C': 0.1, 'estimator__penalty': 'l1', 'estimator__solver': 'saga'}\n",
      "Best CV Score: 0.6512499999999999\n",
      "Test Accuracy: 0.68\n"
     ]
    }
   ],
   "execution_count": 67
  },
  {
   "metadata": {},
   "cell_type": "markdown",
   "source": "Randomized search CV",
   "id": "9e3c3a7517f08840"
  },
  {
   "metadata": {
    "ExecuteTime": {
     "end_time": "2025-06-20T11:25:10.493711Z",
     "start_time": "2025-06-20T11:25:10.487746Z"
    }
   },
   "cell_type": "code",
   "source": "from sklearn.model_selection import RandomizedSearchCV",
   "id": "95c71355892efe87",
   "outputs": [],
   "execution_count": 68
  },
  {
   "metadata": {
    "ExecuteTime": {
     "end_time": "2025-06-20T11:25:33.220717Z",
     "start_time": "2025-06-20T11:25:33.214076Z"
    }
   },
   "cell_type": "code",
   "source": "randomized = RandomizedSearchCV(estimator=logistic, param_distributions=param_grid, cv=cv);",
   "id": "e341bb62fd0ff97c",
   "outputs": [],
   "execution_count": 69
  },
  {
   "metadata": {
    "ExecuteTime": {
     "end_time": "2025-06-20T11:25:41.581715Z",
     "start_time": "2025-06-20T11:25:40.151473Z"
    }
   },
   "cell_type": "code",
   "source": "randomized.fit(X_train, y_train);",
   "id": "64edd8acd6ce4c44",
   "outputs": [],
   "execution_count": 70
  },
  {
   "metadata": {
    "ExecuteTime": {
     "end_time": "2025-06-20T11:26:30.215673Z",
     "start_time": "2025-06-20T11:26:30.206505Z"
    }
   },
   "cell_type": "code",
   "source": [
    "print(\"Best Randomized search Params:\", randomized.best_params_)\n",
    "print(\"Best Randomized search Score:\", randomized.best_score_)\n",
    "print(\"Test Randomized search Accuracy:\", randomized.score(X_test, y_test))"
   ],
   "id": "978338e22b082284",
   "outputs": [
    {
     "name": "stdout",
     "output_type": "stream",
     "text": [
      "Best Randomized search Params: {'estimator__solver': 'liblinear', 'estimator__penalty': 'l1', 'estimator__C': 0.1}\n",
      "Best Randomized search Score: 0.64875\n",
      "Test Randomized search Accuracy: 0.675\n"
     ]
    }
   ],
   "execution_count": 71
  }
 ],
 "metadata": {
  "kernelspec": {
   "name": "conda-base-py",
   "language": "python",
   "display_name": "Python [conda env:base] *"
  }
 },
 "nbformat": 4,
 "nbformat_minor": 5
}
